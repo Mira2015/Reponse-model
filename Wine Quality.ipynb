{
 "cells": [
  {
   "cell_type": "code",
   "execution_count": 1,
   "metadata": {
    "collapsed": false
   },
   "outputs": [
    {
     "ename": "ModuleNotFoundError",
     "evalue": "No module named 'nbpresent'",
     "output_type": "error",
     "traceback": [
      "\u001b[0;31m---------------------------------------------------------------------------\u001b[0m",
      "\u001b[0;31mModuleNotFoundError\u001b[0m                       Traceback (most recent call last)",
      "\u001b[0;32m<ipython-input-1-844a5a67c96e>\u001b[0m in \u001b[0;36m<module>\u001b[0;34m()\u001b[0m\n\u001b[0;32m----> 1\u001b[0;31m \u001b[1;32mimport\u001b[0m \u001b[0mnbpresent\u001b[0m\u001b[1;33m\u001b[0m\u001b[0m\n\u001b[0m\u001b[1;32m      2\u001b[0m \u001b[0mnbpresent\u001b[0m\u001b[1;33m.\u001b[0m\u001b[0m__version__\u001b[0m\u001b[1;33m\u001b[0m\u001b[0m\n",
      "\u001b[0;31mModuleNotFoundError\u001b[0m: No module named 'nbpresent'"
     ]
    }
   ],
   "source": [
    "import nbpresent\n",
    "nbpresent.__version__"
   ]
  },
  {
   "cell_type": "code",
   "execution_count": null,
   "metadata": {
    "collapsed": true
   },
   "outputs": [],
   "source": [
    "import nbpresent\n",
    "nbpresent.__version__"
   ]
  },
  {
   "cell_type": "code",
   "execution_count": 2,
   "metadata": {
    "collapsed": false,
    "nbpresent": {
     "id": "8b6dbd9f-819f-444c-8687-41edcc51ab9c"
    }
   },
   "outputs": [],
   "source": [
    "import pandas as pd"
   ]
  },
  {
   "cell_type": "markdown",
   "metadata": {
    "nbpresent": {
     "id": "d8a45066-f35f-47f5-875a-662cddb39fe4"
    }
   },
   "source": [
    "### Demonstrate deep learning by predicting wine quality\n",
    "* Wine data\n",
    "* Keras deep learning tool\n",
    "* Code and experimental process "
   ]
  },
  {
   "cell_type": "markdown",
   "metadata": {},
   "source": [
    "#### Data\n",
    "Data from UC Irvine Center for Machine Learning. http://archive.ics.uci.edu/ml/machine-learning-databases/wine-quality/"
   ]
  },
  {
   "cell_type": "code",
   "execution_count": 3,
   "metadata": {
    "collapsed": false,
    "nbpresent": {
     "id": "a407dc4c-c2d5-461b-953c-d9e3b6cb23df"
    }
   },
   "outputs": [],
   "source": [
    "white_df = pd.read_csv(\"winequality-white.csv\", \n",
    "                       sep=';')\n",
    "red_df = pd.read_csv(\"winequality-red.csv\", \n",
    "                       sep=';')"
   ]
  },
  {
   "cell_type": "code",
   "execution_count": 4,
   "metadata": {
    "collapsed": false,
    "nbpresent": {
     "id": "296c7c85-3337-4c2c-b470-6b897240810d"
    }
   },
   "outputs": [
    {
     "name": "stdout",
     "output_type": "stream",
     "text": [
      "<class 'pandas.core.frame.DataFrame'>\n",
      "RangeIndex: 4898 entries, 0 to 4897\n",
      "Data columns (total 12 columns):\n",
      "fixed acidity           4898 non-null float64\n",
      "volatile acidity        4898 non-null float64\n",
      "citric acid             4898 non-null float64\n",
      "residual sugar          4898 non-null float64\n",
      "chlorides               4898 non-null float64\n",
      "free sulfur dioxide     4898 non-null float64\n",
      "total sulfur dioxide    4898 non-null float64\n",
      "density                 4898 non-null float64\n",
      "pH                      4898 non-null float64\n",
      "sulphates               4898 non-null float64\n",
      "alcohol                 4898 non-null float64\n",
      "quality                 4898 non-null int64\n",
      "dtypes: float64(11), int64(1)\n",
      "memory usage: 459.3 KB\n"
     ]
    }
   ],
   "source": [
    "white_df.info()"
   ]
  },
  {
   "cell_type": "code",
   "execution_count": 5,
   "metadata": {
    "collapsed": false,
    "nbpresent": {
     "id": "4156f355-6837-44ba-a840-b13b8798e6b9"
    }
   },
   "outputs": [
    {
     "name": "stdout",
     "output_type": "stream",
     "text": [
      "<class 'pandas.core.frame.DataFrame'>\n",
      "RangeIndex: 1599 entries, 0 to 1598\n",
      "Data columns (total 12 columns):\n",
      "fixed acidity           1599 non-null float64\n",
      "volatile acidity        1599 non-null float64\n",
      "citric acid             1599 non-null float64\n",
      "residual sugar          1599 non-null float64\n",
      "chlorides               1599 non-null float64\n",
      "free sulfur dioxide     1599 non-null float64\n",
      "total sulfur dioxide    1599 non-null float64\n",
      "density                 1599 non-null float64\n",
      "pH                      1599 non-null float64\n",
      "sulphates               1599 non-null float64\n",
      "alcohol                 1599 non-null float64\n",
      "quality                 1599 non-null int64\n",
      "dtypes: float64(11), int64(1)\n",
      "memory usage: 150.0 KB\n"
     ]
    }
   ],
   "source": [
    "red_df.info()"
   ]
  },
  {
   "cell_type": "markdown",
   "metadata": {
    "nbpresent": {
     "id": "e2a7dd37-6a71-4ae3-a4d3-0095e2a0b3d4"
    }
   },
   "source": [
    "### Data Prep\n",
    "#### Combine to a single dataframe"
   ]
  },
  {
   "cell_type": "code",
   "execution_count": 6,
   "metadata": {
    "collapsed": true,
    "nbpresent": {
     "id": "5fc501cc-5ab9-4cf5-936d-e749f2ea5a04"
    }
   },
   "outputs": [],
   "source": [
    "red_df['is_red'] = 1\n",
    "white_df['is_red'] = 0\n",
    "wine_df = red_df.append(white_df, ignore_index=True)"
   ]
  },
  {
   "cell_type": "markdown",
   "metadata": {
    "nbpresent": {
     "id": "53cc794a-8f33-4763-a189-474cfa60911e"
    }
   },
   "source": [
    "#### Bin quality data:  1=Very Good, 0=Not Very Good"
   ]
  },
  {
   "cell_type": "code",
   "execution_count": 9,
   "metadata": {
    "collapsed": false,
    "nbpresent": {
     "id": "0a6264aa-a7d6-4805-bb70-49ca689236b3"
    }
   },
   "outputs": [
    {
     "data": {
      "text/plain": [
       "6    2836\n",
       "5    2138\n",
       "7    1079\n",
       "4     216\n",
       "8     193\n",
       "3      30\n",
       "9       5\n",
       "Name: quality, dtype: int64"
      ]
     },
     "execution_count": 9,
     "metadata": {},
     "output_type": "execute_result"
    }
   ],
   "source": [
    "wine_df.quality.value_counts()"
   ]
  },
  {
   "cell_type": "code",
   "execution_count": 10,
   "metadata": {
    "collapsed": false,
    "nbpresent": {
     "id": "73ecb53d-5f1b-4ab5-bbbd-c0b24f2af390"
    }
   },
   "outputs": [
    {
     "data": {
      "text/plain": [
       "0    5220\n",
       "1    1277\n",
       "Name: quality_cat, dtype: int64"
      ]
     },
     "execution_count": 10,
     "metadata": {},
     "output_type": "execute_result"
    }
   ],
   "source": [
    "bins = [2, 6, 9]  # 0=3-6, 1=7-9\n",
    "wine_df['quality_cat'] = pd.cut(wine_df.quality, bins, labels=[0, 1])\n",
    "wine_df.quality_cat.value_counts()\n"
   ]
  },
  {
   "cell_type": "markdown",
   "metadata": {
    "nbpresent": {
     "id": "d88da7db-36c9-4277-a048-c0807ae61ff7"
    }
   },
   "source": [
    "#### Separate data into features and labels"
   ]
  },
  {
   "cell_type": "code",
   "execution_count": 11,
   "metadata": {
    "collapsed": false,
    "nbpresent": {
     "id": "4f010fe0-ac52-46a9-ab93-53e060f3eaa8"
    }
   },
   "outputs": [],
   "source": [
    "X_df = wine_df.drop(['quality', 'quality_cat'], 1)\n",
    "y_df = wine_df.quality_cat"
   ]
  },
  {
   "cell_type": "code",
   "execution_count": 12,
   "metadata": {
    "collapsed": false,
    "nbpresent": {
     "id": "e67b05fc-ddb3-4726-a864-185cad1545ed"
    }
   },
   "outputs": [
    {
     "name": "stdout",
     "output_type": "stream",
     "text": [
      "<class 'pandas.core.frame.DataFrame'>\n",
      "RangeIndex: 6497 entries, 0 to 6496\n",
      "Data columns (total 12 columns):\n",
      "fixed acidity           6497 non-null float64\n",
      "volatile acidity        6497 non-null float64\n",
      "citric acid             6497 non-null float64\n",
      "residual sugar          6497 non-null float64\n",
      "chlorides               6497 non-null float64\n",
      "free sulfur dioxide     6497 non-null float64\n",
      "total sulfur dioxide    6497 non-null float64\n",
      "density                 6497 non-null float64\n",
      "pH                      6497 non-null float64\n",
      "sulphates               6497 non-null float64\n",
      "alcohol                 6497 non-null float64\n",
      "is_red                  6497 non-null int64\n",
      "dtypes: float64(11), int64(1)\n",
      "memory usage: 609.2 KB\n"
     ]
    }
   ],
   "source": [
    "X_df.info()"
   ]
  },
  {
   "cell_type": "code",
   "execution_count": 13,
   "metadata": {
    "collapsed": false,
    "nbpresent": {
     "id": "a4036ce3-ed05-438a-b4b5-410f223cc5d8"
    }
   },
   "outputs": [
    {
     "data": {
      "text/plain": [
       "0    5220\n",
       "1    1277\n",
       "Name: quality_cat, dtype: int64"
      ]
     },
     "execution_count": 13,
     "metadata": {},
     "output_type": "execute_result"
    }
   ],
   "source": [
    "y_df.value_counts()"
   ]
  },
  {
   "cell_type": "markdown",
   "metadata": {
    "nbpresent": {
     "id": "50001c1d-6b6a-44c8-b582-c30cb1ced6db"
    }
   },
   "source": [
    "#### Split data into train, test"
   ]
  },
  {
   "cell_type": "code",
   "execution_count": 16,
   "metadata": {
    "collapsed": false,
    "nbpresent": {
     "id": "e014e900-b0a8-40a8-b128-a6b307117ff5"
    }
   },
   "outputs": [],
   "source": [
    "from sklearn.model_selection import train_test_split"
   ]
  },
  {
   "cell_type": "code",
   "execution_count": 17,
   "metadata": {
    "collapsed": true,
    "nbpresent": {
     "id": "5924c14e-1c94-48d2-815b-334cefca205a"
    }
   },
   "outputs": [],
   "source": [
    "X_train, X_test, y_train, y_test = train_test_split(X_df.get_values(), y_df.get_values(), test_size = 0.30, random_state=2)"
   ]
  },
  {
   "cell_type": "markdown",
   "metadata": {
    "nbpresent": {
     "id": "99168cbd-093e-4982-ac90-50e7260c18f8"
    }
   },
   "source": [
    "#### Standardize data"
   ]
  },
  {
   "cell_type": "code",
   "execution_count": 18,
   "metadata": {
    "collapsed": true,
    "nbpresent": {
     "id": "8de2d086-9627-4330-9185-b500a0cdc8e1"
    }
   },
   "outputs": [],
   "source": [
    "from sklearn.preprocessing import StandardScaler"
   ]
  },
  {
   "cell_type": "code",
   "execution_count": 19,
   "metadata": {
    "collapsed": true,
    "nbpresent": {
     "id": "cc736a62-ebd5-4fbb-9999-b9c01a6983e5"
    }
   },
   "outputs": [],
   "source": [
    "scaler = StandardScaler()\n",
    "scaler.fit(X_train)\n",
    "X_train = scaler.transform(X_train)\n",
    "X_test = scaler.transform(X_test)"
   ]
  },
  {
   "cell_type": "markdown",
   "metadata": {
    "nbpresent": {
     "id": "b8a319b7-2d69-4680-87bb-9fd0b87068f4"
    }
   },
   "source": [
    "### Keras:  Deep Learning Tool"
   ]
  },
  {
   "cell_type": "markdown",
   "metadata": {
    "nbpresent": {
     "id": "003148bd-0c14-4ec5-a0e0-866e07b03d7e"
    }
   },
   "source": [
    "* https://keras.io/\n",
    "* Python open source tool, available as a python package inside Wells Fargo firewall\n",
    "* Easy interface to build deep learning models\n",
    "* Sits on top of Theano or Google's Tensorflow open source deep learning engines\n",
    "\n",
    "Note:  \n",
    "* This demo including all tools are on my desktop\n",
    "* For real projects with big data, can use the Advanced Analytics Lab cluster:\n",
    "  * https://eda.wellsfargo.com/collab/home/EDAAA/SitePages/Home.aspx"
   ]
  },
  {
   "cell_type": "markdown",
   "metadata": {
    "nbpresent": {
     "id": "f1c60150-da35-49d7-aae2-ee22075c6a08"
    }
   },
   "source": [
    "### Wine Data:  12 Variables"
   ]
  },
  {
   "cell_type": "code",
   "execution_count": 20,
   "metadata": {
    "collapsed": true
   },
   "outputs": [],
   "source": [
    "import seaborn as sb\n",
    "from matplotlib import pyplot as plt\n",
    "%matplotlib inline"
   ]
  },
  {
   "cell_type": "code",
   "execution_count": 21,
   "metadata": {
    "collapsed": false,
    "nbpresent": {
     "id": "490786c6-53d6-4063-bd2e-831d689b1720"
    }
   },
   "outputs": [
    {
     "name": "stdout",
     "output_type": "stream",
     "text": [
      "fixed acidity\n",
      "volatile acidity\n",
      "citric acid\n",
      "residual sugar\n",
      "chlorides\n",
      "free sulfur dioxide\n",
      "total sulfur dioxide\n",
      "density\n",
      "pH\n",
      "sulphates\n",
      "alcohol\n",
      "is_red\n"
     ]
    }
   ],
   "source": [
    "columns = wine_df.drop(['quality', 'quality_cat'], 1).columns\n",
    "for col in columns:\n",
    "    print(col)"
   ]
  },
  {
   "cell_type": "code",
   "execution_count": 22,
   "metadata": {
    "collapsed": false,
    "nbpresent": {
     "id": "783d8e1d-dc11-49fd-84a2-def15ff10ecc"
    },
    "scrolled": true
   },
   "outputs": [
    {
     "data": {
      "image/png": "[encoded data removed]",
      "text/plain": [
       "<matplotlib.figure.Figure at 0xb878a20>"
      ]
     },
     "metadata": {},
     "output_type": "display_data"
    }
   ],
   "source": [
    "ax = wine_df.boxplot(column='alcohol', by='quality_cat')"
   ]
  },
  {
   "cell_type": "code",
   "execution_count": 23,
   "metadata": {
    "collapsed": false
   },
   "outputs": [
    {
     "data": {
      "image/png": "[encoded data removed]",
      "text/plain": [
       "<matplotlib.figure.Figure at 0xbc59f60>"
      ]
     },
     "metadata": {},
     "output_type": "display_data"
    }
   ],
   "source": [
    "ax = wine_df.boxplot(column='residual sugar', by='quality_cat')"
   ]
  },
  {
   "cell_type": "code",
   "execution_count": 24,
   "metadata": {
    "collapsed": false,
    "nbpresent": {
     "id": "5d3dc62b-4132-4dce-b77d-323072f6a4cc"
    },
    "scrolled": false
   },
   "outputs": [
    {
     "data": {
      "image/png": "[encoded data removed]",
      "text/plain": [
       "<matplotlib.figure.Figure at 0xbd16400>"
      ]
     },
     "metadata": {},
     "output_type": "display_data"
    }
   ],
   "source": [
    "fig, axes = plt.subplots(nrows=1, ncols=2)\n",
    " \n",
    "wine_df[wine_df.quality_cat == 0]['alcohol'].hist(alpha=0.5, label='Not Very Good', color='g', ax=axes[0])\n",
    "wine_df[wine_df.quality_cat == 1]['alcohol'].hist(alpha=0.5, label='Very Good', color='b', ax=axes[1])\n",
    "\n",
    "axes[0].legend()\n",
    "axes[1].legend()\n",
    "\n",
    "fig.suptitle('Alcohol %, by Quality', fontsize=16)\n",
    "plt.show()"
   ]
  },
  {
   "cell_type": "code",
   "execution_count": 25,
   "metadata": {
    "collapsed": false
   },
   "outputs": [
    {
     "data": {
      "text/plain": [
       "<seaborn.axisgrid.PairGrid at 0xbda4a58>"
      ]
     },
     "execution_count": 25,
     "metadata": {},
     "output_type": "execute_result"
    },
    {
     "data": {
      "image/png": "[encoded data removed]",
      "text/plain": [
       "<matplotlib.figure.Figure at 0xbd337b8>"
      ]
     },
     "metadata": {},
     "output_type": "display_data"
    }
   ],
   "source": [
    "sb.set_context(\"notebook\", font_scale=1)\n",
    "sb.pairplot(wine_df[['quality', 'alcohol', 'is_red', 'residual sugar']], size=3)"
   ]
  },
  {
   "cell_type": "markdown",
   "metadata": {
    "nbpresent": {
     "id": "93a278a3-0013-4751-9a13-27a3d4e42678"
    }
   },
   "source": [
    "### Build, Train and Test Model"
   ]
  },
  {
   "cell_type": "code",
   "execution_count": 29,
   "metadata": {
    "collapsed": false,
    "nbpresent": {
     "id": "4673b9b6-60d9-40ce-a016-2409719d0994"
    }
   },
   "outputs": [
    {
     "name": "stderr",
     "output_type": "stream",
     "text": [
      "Using TensorFlow backend.\n"
     ]
    },
    {
     "ename": "ModuleNotFoundError",
     "evalue": "No module named 'tensorflow'",
     "output_type": "error",
     "traceback": [
      "\u001b[0;31m---------------------------------------------------------------------------\u001b[0m",
      "\u001b[0;31mModuleNotFoundError\u001b[0m                       Traceback (most recent call last)",
      "\u001b[0;32m<ipython-input-29-c18afc39c803>\u001b[0m in \u001b[0;36m<module>\u001b[0;34m()\u001b[0m\n\u001b[0;32m----> 1\u001b[0;31m \u001b[1;32mfrom\u001b[0m \u001b[0mkeras\u001b[0m\u001b[1;33m.\u001b[0m\u001b[0mmodels\u001b[0m \u001b[1;32mimport\u001b[0m \u001b[0mSequential\u001b[0m\u001b[1;33m\u001b[0m\u001b[0m\n\u001b[0m\u001b[1;32m      2\u001b[0m \u001b[1;32mfrom\u001b[0m \u001b[0mkeras\u001b[0m\u001b[1;33m.\u001b[0m\u001b[0mlayers\u001b[0m\u001b[1;33m.\u001b[0m\u001b[0mcore\u001b[0m \u001b[1;32mimport\u001b[0m \u001b[0mDense\u001b[0m\u001b[1;33m\u001b[0m\u001b[0m\n",
      "\u001b[0;32mC:\\Users\\U602605\\AppData\\Local\\Continuum\\Anaconda3\\lib\\site-packages\\keras\\__init__.py\u001b[0m in \u001b[0;36m<module>\u001b[0;34m()\u001b[0m\n\u001b[1;32m      1\u001b[0m \u001b[1;32mfrom\u001b[0m \u001b[0m__future__\u001b[0m \u001b[1;32mimport\u001b[0m \u001b[0mabsolute_import\u001b[0m\u001b[1;33m\u001b[0m\u001b[0m\n\u001b[1;32m      2\u001b[0m \u001b[1;33m\u001b[0m\u001b[0m\n\u001b[0;32m----> 3\u001b[0;31m \u001b[1;32mfrom\u001b[0m \u001b[1;33m.\u001b[0m \u001b[1;32mimport\u001b[0m \u001b[0mutils\u001b[0m\u001b[1;33m\u001b[0m\u001b[0m\n\u001b[0m\u001b[1;32m      4\u001b[0m \u001b[1;32mfrom\u001b[0m \u001b[1;33m.\u001b[0m \u001b[1;32mimport\u001b[0m \u001b[0mactivations\u001b[0m\u001b[1;33m\u001b[0m\u001b[0m\n\u001b[1;32m      5\u001b[0m \u001b[1;32mfrom\u001b[0m \u001b[1;33m.\u001b[0m \u001b[1;32mimport\u001b[0m \u001b[0mapplications\u001b[0m\u001b[1;33m\u001b[0m\u001b[0m\n",
      "\u001b[0;32mC:\\Users\\U602605\\AppData\\Local\\Continuum\\Anaconda3\\lib\\site-packages\\keras\\utils\\__init__.py\u001b[0m in \u001b[0;36m<module>\u001b[0;34m()\u001b[0m\n\u001b[1;32m      4\u001b[0m \u001b[1;32mfrom\u001b[0m \u001b[1;33m.\u001b[0m \u001b[1;32mimport\u001b[0m \u001b[0mdata_utils\u001b[0m\u001b[1;33m\u001b[0m\u001b[0m\n\u001b[1;32m      5\u001b[0m \u001b[1;32mfrom\u001b[0m \u001b[1;33m.\u001b[0m \u001b[1;32mimport\u001b[0m \u001b[0mio_utils\u001b[0m\u001b[1;33m\u001b[0m\u001b[0m\n\u001b[0;32m----> 6\u001b[0;31m \u001b[1;32mfrom\u001b[0m \u001b[1;33m.\u001b[0m \u001b[1;32mimport\u001b[0m \u001b[0mconv_utils\u001b[0m\u001b[1;33m\u001b[0m\u001b[0m\n\u001b[0m\u001b[1;32m      7\u001b[0m \u001b[1;33m\u001b[0m\u001b[0m\n\u001b[1;32m      8\u001b[0m \u001b[1;31m# Globally-importable utils.\u001b[0m\u001b[1;33m\u001b[0m\u001b[1;33m\u001b[0m\u001b[0m\n",
      "\u001b[0;32mC:\\Users\\U602605\\AppData\\Local\\Continuum\\Anaconda3\\lib\\site-packages\\keras\\utils\\conv_utils.py\u001b[0m in \u001b[0;36m<module>\u001b[0;34m()\u001b[0m\n\u001b[1;32m      7\u001b[0m \u001b[1;32mfrom\u001b[0m \u001b[0msix\u001b[0m\u001b[1;33m.\u001b[0m\u001b[0mmoves\u001b[0m \u001b[1;32mimport\u001b[0m \u001b[0mrange\u001b[0m\u001b[1;33m\u001b[0m\u001b[0m\n\u001b[1;32m      8\u001b[0m \u001b[1;32mimport\u001b[0m \u001b[0mnumpy\u001b[0m \u001b[1;32mas\u001b[0m \u001b[0mnp\u001b[0m\u001b[1;33m\u001b[0m\u001b[0m\n\u001b[0;32m----> 9\u001b[0;31m \u001b[1;32mfrom\u001b[0m \u001b[1;33m.\u001b[0m\u001b[1;33m.\u001b[0m \u001b[1;32mimport\u001b[0m \u001b[0mbackend\u001b[0m \u001b[1;32mas\u001b[0m \u001b[0mK\u001b[0m\u001b[1;33m\u001b[0m\u001b[0m\n\u001b[0m\u001b[1;32m     10\u001b[0m \u001b[1;33m\u001b[0m\u001b[0m\n\u001b[1;32m     11\u001b[0m \u001b[1;33m\u001b[0m\u001b[0m\n",
      "\u001b[0;32mC:\\Users\\U602605\\AppData\\Local\\Continuum\\Anaconda3\\lib\\site-packages\\keras\\backend\\__init__.py\u001b[0m in \u001b[0;36m<module>\u001b[0;34m()\u001b[0m\n\u001b[1;32m     82\u001b[0m \u001b[1;32melif\u001b[0m \u001b[0m_BACKEND\u001b[0m \u001b[1;33m==\u001b[0m \u001b[1;34m'tensorflow'\u001b[0m\u001b[1;33m:\u001b[0m\u001b[1;33m\u001b[0m\u001b[0m\n\u001b[1;32m     83\u001b[0m     \u001b[0msys\u001b[0m\u001b[1;33m.\u001b[0m\u001b[0mstderr\u001b[0m\u001b[1;33m.\u001b[0m\u001b[0mwrite\u001b[0m\u001b[1;33m(\u001b[0m\u001b[1;34m'Using TensorFlow backend.\\n'\u001b[0m\u001b[1;33m)\u001b[0m\u001b[1;33m\u001b[0m\u001b[0m\n\u001b[0;32m---> 84\u001b[0;31m     \u001b[1;32mfrom\u001b[0m \u001b[1;33m.\u001b[0m\u001b[0mtensorflow_backend\u001b[0m \u001b[1;32mimport\u001b[0m \u001b[1;33m*\u001b[0m\u001b[1;33m\u001b[0m\u001b[0m\n\u001b[0m\u001b[1;32m     85\u001b[0m \u001b[1;32melse\u001b[0m\u001b[1;33m:\u001b[0m\u001b[1;33m\u001b[0m\u001b[0m\n\u001b[1;32m     86\u001b[0m     \u001b[1;32mraise\u001b[0m \u001b[0mValueError\u001b[0m\u001b[1;33m(\u001b[0m\u001b[1;34m'Unknown backend: '\u001b[0m \u001b[1;33m+\u001b[0m \u001b[0mstr\u001b[0m\u001b[1;33m(\u001b[0m\u001b[0m_BACKEND\u001b[0m\u001b[1;33m)\u001b[0m\u001b[1;33m)\u001b[0m\u001b[1;33m\u001b[0m\u001b[0m\n",
      "\u001b[0;32mC:\\Users\\U602605\\AppData\\Local\\Continuum\\Anaconda3\\lib\\site-packages\\keras\\backend\\tensorflow_backend.py\u001b[0m in \u001b[0;36m<module>\u001b[0;34m()\u001b[0m\n\u001b[1;32m      3\u001b[0m \u001b[1;32mfrom\u001b[0m \u001b[0m__future__\u001b[0m \u001b[1;32mimport\u001b[0m \u001b[0mprint_function\u001b[0m\u001b[1;33m\u001b[0m\u001b[0m\n\u001b[1;32m      4\u001b[0m \u001b[1;33m\u001b[0m\u001b[0m\n\u001b[0;32m----> 5\u001b[0;31m \u001b[1;32mimport\u001b[0m \u001b[0mtensorflow\u001b[0m \u001b[1;32mas\u001b[0m \u001b[0mtf\u001b[0m\u001b[1;33m\u001b[0m\u001b[0m\n\u001b[0m\u001b[1;32m      6\u001b[0m \u001b[1;32mfrom\u001b[0m \u001b[0mtensorflow\u001b[0m\u001b[1;33m.\u001b[0m\u001b[0mpython\u001b[0m\u001b[1;33m.\u001b[0m\u001b[0mtraining\u001b[0m \u001b[1;32mimport\u001b[0m \u001b[0mmoving_averages\u001b[0m\u001b[1;33m\u001b[0m\u001b[0m\n\u001b[1;32m      7\u001b[0m \u001b[1;32mfrom\u001b[0m \u001b[0mtensorflow\u001b[0m\u001b[1;33m.\u001b[0m\u001b[0mpython\u001b[0m\u001b[1;33m.\u001b[0m\u001b[0mops\u001b[0m \u001b[1;32mimport\u001b[0m \u001b[0mtensor_array_ops\u001b[0m\u001b[1;33m\u001b[0m\u001b[0m\n",
      "\u001b[0;31mModuleNotFoundError\u001b[0m: No module named 'tensorflow'"
     ]
    }
   ],
   "source": [
    "from keras.models import Sequential\n",
    "from keras.layers.core import Dense"
   ]
  },
  {
   "cell_type": "code",
   "execution_count": 51,
   "metadata": {
    "collapsed": false,
    "nbpresent": {
     "id": "de030a3e-4ac9-4b9d-b94b-419237d48d36"
    },
    "scrolled": true
   },
   "outputs": [
    {
     "name": "stdout",
     "output_type": "stream",
     "text": [
      "Epoch 1/100\n",
      "4547/4547 [==============================] - 0s - loss: 0.5161 - acc: 0.8065     \n",
      "Epoch 2/100\n",
      "4547/4547 [==============================] - 0s - loss: 0.4616 - acc: 0.8065     \n",
      "Epoch 3/100\n",
      "4547/4547 [==============================] - 0s - loss: 0.4350 - acc: 0.8065     \n",
      "Epoch 4/100\n",
      "4547/4547 [==============================] - 0s - loss: 0.4173 - acc: 0.8067     \n",
      "Epoch 5/100\n",
      "4547/4547 [==============================] - 0s - loss: 0.4036 - acc: 0.8080     \n",
      "Epoch 6/100\n",
      "4547/4547 [==============================] - 0s - loss: 0.3933 - acc: 0.8139     \n",
      "Epoch 7/100\n",
      "4547/4547 [==============================] - 0s - loss: 0.3860 - acc: 0.8219     \n",
      "Epoch 8/100\n",
      "4547/4547 [==============================] - 0s - loss: 0.3809 - acc: 0.8289     \n",
      "Epoch 9/100\n",
      "4547/4547 [==============================] - 0s - loss: 0.3770 - acc: 0.8296     \n",
      "Epoch 10/100\n",
      "4547/4547 [==============================] - 0s - loss: 0.3752 - acc: 0.8326     \n",
      "Epoch 11/100\n",
      "4547/4547 [==============================] - 0s - loss: 0.3727 - acc: 0.8307     \n",
      "Epoch 12/100\n",
      "4547/4547 [==============================] - 0s - loss: 0.3716 - acc: 0.8313     \n",
      "Epoch 13/100\n",
      "4547/4547 [==============================] - 0s - loss: 0.3703 - acc: 0.8322     \n",
      "Epoch 14/100\n",
      "4547/4547 [==============================] - 0s - loss: 0.3691 - acc: 0.8322     \n",
      "Epoch 15/100\n",
      "4547/4547 [==============================] - 0s - loss: 0.3681 - acc: 0.8342     \n",
      "Epoch 16/100\n",
      "4547/4547 [==============================] - 0s - loss: 0.3673 - acc: 0.8344     \n",
      "Epoch 17/100\n",
      "4547/4547 [==============================] - 0s - loss: 0.3668 - acc: 0.8329     \n",
      "Epoch 18/100\n",
      "4547/4547 [==============================] - 0s - loss: 0.3655 - acc: 0.8340     \n",
      "Epoch 19/100\n",
      "4547/4547 [==============================] - 0s - loss: 0.3651 - acc: 0.8362     \n",
      "Epoch 20/100\n",
      "4547/4547 [==============================] - 0s - loss: 0.3642 - acc: 0.8357     \n",
      "Epoch 21/100\n",
      "4547/4547 [==============================] - 0s - loss: 0.3632 - acc: 0.8359     \n",
      "Epoch 22/100\n",
      "4547/4547 [==============================] - 0s - loss: 0.3626 - acc: 0.8362     \n",
      "Epoch 23/100\n",
      "4547/4547 [==============================] - 0s - loss: 0.3618 - acc: 0.8348     \n",
      "Epoch 24/100\n",
      "4547/4547 [==============================] - 0s - loss: 0.3613 - acc: 0.8362     \n",
      "Epoch 25/100\n",
      "4547/4547 [==============================] - 0s - loss: 0.3604 - acc: 0.8364     \n",
      "Epoch 26/100\n",
      "4547/4547 [==============================] - 0s - loss: 0.3596 - acc: 0.8353     \n",
      "Epoch 27/100\n",
      "4547/4547 [==============================] - 0s - loss: 0.3592 - acc: 0.8373     \n",
      "Epoch 28/100\n",
      "4547/4547 [==============================] - 0s - loss: 0.3585 - acc: 0.8351     \n",
      "Epoch 29/100\n",
      "4547/4547 [==============================] - 0s - loss: 0.3575 - acc: 0.8386     \n",
      "Epoch 30/100\n",
      "4547/4547 [==============================] - 0s - loss: 0.3573 - acc: 0.8364     \n",
      "Epoch 31/100\n",
      "4547/4547 [==============================] - 0s - loss: 0.3563 - acc: 0.8381     \n",
      "Epoch 32/100\n",
      "4547/4547 [==============================] - 0s - loss: 0.3560 - acc: 0.8366     \n",
      "Epoch 33/100\n",
      "4547/4547 [==============================] - 0s - loss: 0.3554 - acc: 0.8373     \n",
      "Epoch 34/100\n",
      "4547/4547 [==============================] - 0s - loss: 0.3546 - acc: 0.8359     \n",
      "Epoch 35/100\n",
      "4547/4547 [==============================] - 0s - loss: 0.3543 - acc: 0.8377     \n",
      "Epoch 36/100\n",
      "4547/4547 [==============================] - 0s - loss: 0.3538 - acc: 0.8359     \n",
      "Epoch 37/100\n",
      "4547/4547 [==============================] - 0s - loss: 0.3527 - acc: 0.8351     \n",
      "Epoch 38/100\n",
      "4547/4547 [==============================] - 0s - loss: 0.3525 - acc: 0.8368     \n",
      "Epoch 39/100\n",
      "4547/4547 [==============================] - 0s - loss: 0.3522 - acc: 0.8368     \n",
      "Epoch 40/100\n",
      "4547/4547 [==============================] - 0s - loss: 0.3512 - acc: 0.8384     \n",
      "Epoch 41/100\n",
      "4547/4547 [==============================] - 0s - loss: 0.3510 - acc: 0.8368     \n",
      "Epoch 42/100\n",
      "4547/4547 [==============================] - 0s - loss: 0.3498 - acc: 0.8379     \n",
      "Epoch 43/100\n",
      "4547/4547 [==============================] - 0s - loss: 0.3494 - acc: 0.8366     \n",
      "Epoch 44/100\n",
      "4547/4547 [==============================] - 0s - loss: 0.3487 - acc: 0.8379     \n",
      "Epoch 45/100\n",
      "4547/4547 [==============================] - 0s - loss: 0.3488 - acc: 0.8364     \n",
      "Epoch 46/100\n",
      "4547/4547 [==============================] - 0s - loss: 0.3479 - acc: 0.8370     \n",
      "Epoch 47/100\n",
      "4547/4547 [==============================] - 0s - loss: 0.3475 - acc: 0.8359     \n",
      "Epoch 48/100\n",
      "4547/4547 [==============================] - 0s - loss: 0.3469 - acc: 0.8392     \n",
      "Epoch 49/100\n",
      "4547/4547 [==============================] - 0s - loss: 0.3465 - acc: 0.8362     \n",
      "Epoch 50/100\n",
      "4547/4547 [==============================] - 0s - loss: 0.3460 - acc: 0.8388     \n",
      "Epoch 51/100\n",
      "4547/4547 [==============================] - 0s - loss: 0.3455 - acc: 0.8392     \n",
      "Epoch 52/100\n",
      "4547/4547 [==============================] - 0s - loss: 0.3449 - acc: 0.8377     \n",
      "Epoch 53/100\n",
      "4547/4547 [==============================] - 0s - loss: 0.3446 - acc: 0.8397     \n",
      "Epoch 54/100\n",
      "4547/4547 [==============================] - 0s - loss: 0.3441 - acc: 0.8386     \n",
      "Epoch 55/100\n",
      "4547/4547 [==============================] - 0s - loss: 0.3443 - acc: 0.8381     \n",
      "Epoch 56/100\n",
      "4547/4547 [==============================] - 0s - loss: 0.3433 - acc: 0.8388     \n",
      "Epoch 57/100\n",
      "4547/4547 [==============================] - 0s - loss: 0.3425 - acc: 0.8386     \n",
      "Epoch 58/100\n",
      "4547/4547 [==============================] - 0s - loss: 0.3426 - acc: 0.8392     \n",
      "Epoch 59/100\n",
      "4547/4547 [==============================] - 0s - loss: 0.3422 - acc: 0.8401     \n",
      "Epoch 60/100\n",
      "4547/4547 [==============================] - 0s - loss: 0.3414 - acc: 0.8406     \n",
      "Epoch 61/100\n",
      "4547/4547 [==============================] - 0s - loss: 0.3414 - acc: 0.8401     \n",
      "Epoch 62/100\n",
      "4547/4547 [==============================] - 0s - loss: 0.3403 - acc: 0.8417     \n",
      "Epoch 63/100\n",
      "4547/4547 [==============================] - 0s - loss: 0.3406 - acc: 0.8397     \n",
      "Epoch 64/100\n",
      "4547/4547 [==============================] - 0s - loss: 0.3407 - acc: 0.8401     \n",
      "Epoch 65/100\n",
      "4547/4547 [==============================] - 0s - loss: 0.3395 - acc: 0.8401     \n",
      "Epoch 66/100\n",
      "4547/4547 [==============================] - 0s - loss: 0.3393 - acc: 0.8417     \n",
      "Epoch 67/100\n",
      "4547/4547 [==============================] - 0s - loss: 0.3400 - acc: 0.8403     \n",
      "Epoch 68/100\n",
      "4547/4547 [==============================] - 0s - loss: 0.3391 - acc: 0.8403     \n",
      "Epoch 69/100\n",
      "4547/4547 [==============================] - 0s - loss: 0.3385 - acc: 0.8412     \n",
      "Epoch 70/100\n",
      "4547/4547 [==============================] - 0s - loss: 0.3383 - acc: 0.8436     \n",
      "Epoch 71/100\n",
      "4547/4547 [==============================] - 0s - loss: 0.3381 - acc: 0.8432     \n",
      "Epoch 72/100\n",
      "4547/4547 [==============================] - 0s - loss: 0.3376 - acc: 0.8430     \n",
      "Epoch 73/100\n",
      "4547/4547 [==============================] - 0s - loss: 0.3373 - acc: 0.8399     \n",
      "Epoch 74/100\n",
      "4547/4547 [==============================] - 0s - loss: 0.3370 - acc: 0.8441     \n",
      "Epoch 75/100\n",
      "4547/4547 [==============================] - 0s - loss: 0.3364 - acc: 0.8441     \n",
      "Epoch 76/100\n",
      "4547/4547 [==============================] - 0s - loss: 0.3364 - acc: 0.8452     \n",
      "Epoch 77/100\n",
      "4547/4547 [==============================] - 0s - loss: 0.3362 - acc: 0.8428     \n",
      "Epoch 78/100\n",
      "4547/4547 [==============================] - 0s - loss: 0.3362 - acc: 0.8423     \n",
      "Epoch 79/100\n",
      "4547/4547 [==============================] - 0s - loss: 0.3358 - acc: 0.8430     \n",
      "Epoch 80/100\n",
      "4547/4547 [==============================] - 0s - loss: 0.3354 - acc: 0.8458     \n",
      "Epoch 81/100\n",
      "4547/4547 [==============================] - 0s - loss: 0.3351 - acc: 0.8439     \n",
      "Epoch 82/100\n",
      "4547/4547 [==============================] - 0s - loss: 0.3347 - acc: 0.8443     \n",
      "Epoch 83/100\n",
      "4547/4547 [==============================] - 0s - loss: 0.3342 - acc: 0.8463     \n",
      "Epoch 84/100\n",
      "4547/4547 [==============================] - 0s - loss: 0.3341 - acc: 0.8458     \n",
      "Epoch 85/100\n",
      "4547/4547 [==============================] - 0s - loss: 0.3336 - acc: 0.8469     \n",
      "Epoch 86/100\n",
      "4547/4547 [==============================] - 0s - loss: 0.3339 - acc: 0.8463     \n",
      "Epoch 87/100\n",
      "4547/4547 [==============================] - 0s - loss: 0.3333 - acc: 0.8456     \n",
      "Epoch 88/100\n",
      "4547/4547 [==============================] - 0s - loss: 0.3331 - acc: 0.8456     \n",
      "Epoch 89/100\n",
      "4547/4547 [==============================] - 0s - loss: 0.3323 - acc: 0.8458     \n",
      "Epoch 90/100\n",
      "4547/4547 [==============================] - 0s - loss: 0.3320 - acc: 0.8465     \n",
      "Epoch 91/100\n",
      "4547/4547 [==============================] - 0s - loss: 0.3319 - acc: 0.8458     \n",
      "Epoch 92/100\n",
      "4547/4547 [==============================] - 0s - loss: 0.3315 - acc: 0.8474     \n",
      "Epoch 93/100\n",
      "4547/4547 [==============================] - 0s - loss: 0.3310 - acc: 0.8463     \n",
      "Epoch 94/100\n",
      "4547/4547 [==============================] - 0s - loss: 0.3309 - acc: 0.8469     \n",
      "Epoch 95/100\n",
      "4547/4547 [==============================] - 0s - loss: 0.3302 - acc: 0.8467     \n",
      "Epoch 96/100\n",
      "4547/4547 [==============================] - 0s - loss: 0.3300 - acc: 0.8450     \n",
      "Epoch 97/100\n",
      "4547/4547 [==============================] - 0s - loss: 0.3302 - acc: 0.8454     \n",
      "Epoch 98/100\n",
      "4547/4547 [==============================] - 0s - loss: 0.3292 - acc: 0.8478     \n",
      "Epoch 99/100\n",
      "4547/4547 [==============================] - 0s - loss: 0.3298 - acc: 0.8461     \n",
      "Epoch 100/100\n",
      "4547/4547 [==============================] - 0s - loss: 0.3288 - acc: 0.8476     \n",
      "  32/1950 [..............................] - ETA: 0s"
     ]
    }
   ],
   "source": [
    "# Build Model\n",
    "model = Sequential()\n",
    "\n",
    "# Add the inputs and first hidden layer\n",
    "model.add(Dense(12, input_dim=12, activation='relu'))\n",
    "\n",
    "# Add another hidden layer\n",
    "model.add(Dense(8, activation='relu'))\n",
    "\n",
    "# Add output layer\n",
    "model.add(Dense(1, activation='sigmoid'))\n",
    "\n",
    "model.compile(loss='binary_crossentropy',\n",
    "              optimizer='adam',\n",
    "              metrics=['accuracy'])\n",
    "\n",
    "# Train Model\n",
    "model.fit(X_train, y_train, epochs=100, batch_size=100, verbose=1)\n",
    "\n",
    "# Predict on Training Data (In Sample)\n",
    "y_pred_train = model.predict_classes(X_train)\n",
    "\n",
    "# Predict on Test Data (Out of Sample)\n",
    "y_pred_test = model.predict_classes(X_test)"
   ]
  },
  {
   "cell_type": "markdown",
   "metadata": {},
   "source": [
    "### Evaluate on Test (Out-of-Sample) Data"
   ]
  },
  {
   "cell_type": "markdown",
   "metadata": {},
   "source": [
    "* Accuracy: fraction of correct predictions\n",
    "* Precision: fraction of wines predicted to be good that actually are good\n",
    "* Recall:  fraction of good wines predicted to be good"
   ]
  },
  {
   "cell_type": "code",
   "execution_count": 24,
   "metadata": {
    "collapsed": true
   },
   "outputs": [],
   "source": [
    "import matplotlib.pyplot as plt\n",
    "from matplotlib.ticker import MaxNLocator\n",
    "from sklearn.metrics import confusion_matrix, precision_score, recall_score, accuracy_score"
   ]
  },
  {
   "cell_type": "code",
   "execution_count": 25,
   "metadata": {
    "collapsed": false
   },
   "outputs": [],
   "source": [
    "# Add this experiment's metrics to the dataframes\n",
    "def update_eval_dataframes(y_train, y_pred_train, y_test, y_pred_test, eval_df):\n",
    "    num_experiment = len(eval_df) + 1\n",
    "\n",
    "    eval_list = [[accuracy_score(y_train, y_pred_train),\n",
    "                  accuracy_score(y_test, y_pred_test),\n",
    "                  num_experiment]]\n",
    "    eval_df = eval_df.append(pd.DataFrame(eval_list,\n",
    "                  columns=['Train: In Sample', 'Test: Out of Sample', 'Experiment']), \n",
    "                  ignore_index=True)\n",
    "\n",
    "    return eval_df"
   ]
  },
  {
   "cell_type": "code",
   "execution_count": 26,
   "metadata": {
    "collapsed": false,
    "scrolled": false
   },
   "outputs": [],
   "source": [
    "def plot_results(eval_df):\n",
    "    ax = eval_df.plot(kind='line', x='Experiment', y=['Train: In Sample','Test: Out of Sample'], figsize=(8, 3), fontsize=14)\n",
    "    ax.xaxis.set_major_locator(MaxNLocator(integer=True)) #set x-axis to integer\n",
    "    plt.title('Accuracy', fontsize=20)\n",
    "    plt.xticks(rotation=0)\n",
    "    plt.show()"
   ]
  },
  {
   "cell_type": "code",
   "execution_count": 45,
   "metadata": {
    "collapsed": false
   },
   "outputs": [],
   "source": [
    "# Create the evaluation dataframes; only run before the first experiment\n",
    "eval_df = pd.DataFrame(columns=['Experiment', 'Train: In Sample', 'Test: Out of Sample'])"
   ]
  },
  {
   "cell_type": "code",
   "execution_count": 52,
   "metadata": {
    "collapsed": false,
    "nbpresent": {
     "id": "90920c64-cabb-4c73-affe-bc0d34f1ea1c"
    }
   },
   "outputs": [
    {
     "data": {
      "text/html": [
       "<div>\n",
       "<table border=\"1\" class=\"dataframe\">\n",
       "  <thead>\n",
       "    <tr style=\"text-align: right;\">\n",
       "      <th></th>\n",
       "      <th>Experiment</th>\n",
       "      <th>Train: In Sample</th>\n",
       "      <th>Test: Out of Sample</th>\n",
       "    </tr>\n",
       "  </thead>\n",
       "  <tbody>\n",
       "    <tr>\n",
       "      <th>0</th>\n",
       "      <td>1.0</td>\n",
       "      <td>0.822520</td>\n",
       "      <td>0.809744</td>\n",
       "    </tr>\n",
       "    <tr>\n",
       "      <th>1</th>\n",
       "      <td>2.0</td>\n",
       "      <td>0.831977</td>\n",
       "      <td>0.822051</td>\n",
       "    </tr>\n",
       "    <tr>\n",
       "      <th>2</th>\n",
       "      <td>3.0</td>\n",
       "      <td>0.848472</td>\n",
       "      <td>0.821538</td>\n",
       "    </tr>\n",
       "  </tbody>\n",
       "</table>\n",
       "</div>"
      ],
      "text/plain": [
       "   Experiment  Train: In Sample  Test: Out of Sample\n",
       "0         1.0          0.822520             0.809744\n",
       "1         2.0          0.831977             0.822051\n",
       "2         3.0          0.848472             0.821538"
      ]
     },
     "execution_count": 52,
     "metadata": {},
     "output_type": "execute_result"
    }
   ],
   "source": [
    "# Evaluate Results:  Accuracy = fraction of correct predictions\n",
    "eval_df = update_eval_dataframes(y_train, y_pred_train, y_test, y_pred_test, eval_df)\n",
    "eval_df[['Experiment', 'Train: In Sample', 'Test: Out of Sample']].head()"
   ]
  },
  {
   "cell_type": "code",
   "execution_count": 53,
   "metadata": {
    "collapsed": false,
    "nbpresent": {
     "id": "6c6f1598-c974-456a-8d95-2990cf397983"
    },
    "scrolled": false
   },
   "outputs": [
    {
     "data": {
      "image/png": "[encoded data removed]",
      "text/plain": [
       "<matplotlib.figure.Figure at 0x19a55c88>"
      ]
     },
     "metadata": {},
     "output_type": "display_data"
    }
   ],
   "source": [
    "plot_results(eval_df)"
   ]
  },
  {
   "cell_type": "code",
   "execution_count": 32,
   "metadata": {
    "collapsed": false,
    "nbpresent": {
     "id": "bd23d731-7e08-47cc-b20e-99d6733dd692"
    },
    "scrolled": false
   },
   "outputs": [
    {
     "data": {
      "text/plain": [
       "array([[1491,   62],\n",
       "       [ 308,   89]])"
      ]
     },
     "execution_count": 32,
     "metadata": {},
     "output_type": "execute_result"
    }
   ],
   "source": [
    "# Confusion Matrix\n",
    "confusion_matrix(y_test, y_pred_test)"
   ]
  },
  {
   "cell_type": "code",
   "execution_count": null,
   "metadata": {
    "collapsed": true
   },
   "outputs": [],
   "source": []
  }
 ],
 "metadata": {
  "anaconda-cloud": {},
  "kernelspec": {
   "display_name": "Python 3",
   "language": "python",
   "name": "python3"
  },
  "language_info": {
   "codemirror_mode": {
    "name": "ipython",
    "version": 3
   },
   "file_extension": ".py",
   "mimetype": "text/x-python",
   "name": "python",
   "nbconvert_exporter": "python",
   "pygments_lexer": "ipython3",
   "version": "3.6.0"
  },
  "nbpresent": {
   "slides": {
    "0ae03890-4f7b-4a8e-be5b-260273b38981": {
     "id": "0ae03890-4f7b-4a8e-be5b-260273b38981",
     "layout": "grid",
     "prev": null,
     "regions": {
      "6910a298-2690-49ca-9d99-9c749d141538": {
       "attrs": {
        "height": 1.25,
        "pad": 0.01,
        "treemap:weight": 1,
        "width": 0.5,
        "x": 0.5,
        "y": 0.08333333333333333
       },
       "content": {
        "cell": "783d8e1d-dc11-49fd-84a2-def15ff10ecc",
        "part": "outputs"
       },
       "id": "6910a298-2690-49ca-9d99-9c749d141538"
      },
      "873c9e7d-8aa1-41d0-b672-1f10d8413274": {
       "attrs": {
        "height": 0.9166666666666666,
        "pad": 0.01,
        "treemap:weight": 1,
        "width": 0.5,
        "x": 0,
        "y": 0.08333333333333333
       },
       "content": {
        "cell": "490786c6-53d6-4063-bd2e-831d689b1720",
        "part": "outputs"
       },
       "id": "873c9e7d-8aa1-41d0-b672-1f10d8413274"
      },
      "ce57b97a-e522-4ad6-9fdf-b823b2e4aba0": {
       "attrs": {
        "height": 0.08333333333333333,
        "pad": 0.01,
        "treemap:weight": 1,
        "width": 1,
        "x": 0,
        "y": 0
       },
       "content": {
        "cell": "f1c60150-da35-49d7-aae2-ee22075c6a08",
        "part": "source"
       },
       "id": "ce57b97a-e522-4ad6-9fdf-b823b2e4aba0"
      }
     }
    },
    "0d3aa5c5-a264-4f56-bc86-23861f441557": {
     "id": "0d3aa5c5-a264-4f56-bc86-23861f441557",
     "layout": "grid",
     "prev": "1a3b644b-ed6b-4231-a09d-2e48095b27c3",
     "regions": {
      "26ee15bd-b710-45b6-8ba4-5c4f7a33d3e4": {
       "attrs": {
        "height": 0.16666666666666666,
        "pad": 0.01,
        "width": 0.4166666666666667,
        "x": 0,
        "y": 0.6666666666666666
       },
       "content": {
        "cell": "90920c64-cabb-4c73-affe-bc0d34f1ea1c",
        "part": "source"
       },
       "id": "26ee15bd-b710-45b6-8ba4-5c4f7a33d3e4"
      },
      "55b332a0-a740-4ce9-862c-bb1fa534a6e8": {
       "attrs": {
        "height": 0.5833333333333334,
        "pad": 0.01,
        "treemap:weight": 1,
        "width": 0.4166666666666667,
        "x": 0,
        "y": 0.08333333333333333
       },
       "content": {
        "cell": "de030a3e-4ac9-4b9d-b94b-419237d48d36",
        "part": "source"
       },
       "id": "55b332a0-a740-4ce9-862c-bb1fa534a6e8"
      },
      "a73a89d3-ff38-4f6d-a67a-8cfff6bee735": {
       "attrs": {
        "height": 0.16666666666666666,
        "pad": 0.01,
        "treemap:weight": 1,
        "width": 1,
        "x": 0.000792393026941363,
        "y": -0.08333333333333333
       },
       "content": {
        "cell": "93a278a3-0013-4751-9a13-27a3d4e42678",
        "part": "source"
       },
       "id": "a73a89d3-ff38-4f6d-a67a-8cfff6bee735"
      },
      "a97f4257-360f-4d47-a0e8-f73e68bb7d22": {
       "attrs": {
        "height": 0.5,
        "pad": 0.01,
        "width": 0.5,
        "x": 0.5,
        "y": 0.08333339331234069
       },
       "content": {
        "cell": "90920c64-cabb-4c73-affe-bc0d34f1ea1c",
        "part": "outputs"
       },
       "id": "a97f4257-360f-4d47-a0e8-f73e68bb7d22"
      },
      "b0946d8b-ed04-473c-bd92-b4e594afa0da": {
       "attrs": {
        "height": 0.16666666666666666,
        "pad": 0.01,
        "width": 0.4166666666666667,
        "x": -0.000792395411605938,
        "y": 0.8333333333333334
       },
       "content": {
        "cell": "6c6f1598-c974-456a-8d95-2990cf397983",
        "part": "source"
       },
       "id": "b0946d8b-ed04-473c-bd92-b4e594afa0da"
      },
      "e9b8291d-45c6-49e9-bd1c-5f4e92a7ecb6": {
       "attrs": {
        "height": 0.4166666666666667,
        "pad": 0.01,
        "treemap:weight": 1,
        "width": 0.5,
        "x": 0.5,
        "y": 0.5833333333333334
       },
       "content": {
        "cell": "6c6f1598-c974-456a-8d95-2990cf397983",
        "part": "outputs"
       },
       "id": "e9b8291d-45c6-49e9-bd1c-5f4e92a7ecb6",
       "x": 0.5
      }
     }
    },
    "1a3b644b-ed6b-4231-a09d-2e48095b27c3": {
     "id": "1a3b644b-ed6b-4231-a09d-2e48095b27c3",
     "layout": "grid",
     "prev": "eef7d6a9-28c7-4826-8250-22ed6e8b41a3",
     "regions": {
      "6714b44b-9d65-46ce-9313-bfc5e1ae291b": {
       "attrs": {
        "height": 0.16666666666666666,
        "pad": 0.01,
        "width": 0.4166666666666667,
        "x": 0,
        "y": 0.6666666666666666
       },
       "content": {
        "cell": "90920c64-cabb-4c73-affe-bc0d34f1ea1c",
        "part": "source"
       },
       "id": "6714b44b-9d65-46ce-9313-bfc5e1ae291b"
      },
      "7ab3b102-75d8-44bc-8b3f-4f519192a3ea": {
       "attrs": {
        "height": 0.5833333333333334,
        "pad": 0.01,
        "treemap:weight": 1,
        "width": 0.4166666666666667,
        "x": 0,
        "y": 0.08333333333333333
       },
       "content": {
        "cell": "de030a3e-4ac9-4b9d-b94b-419237d48d36",
        "part": "source"
       },
       "id": "7ab3b102-75d8-44bc-8b3f-4f519192a3ea"
      },
      "a8b02ca1-3cb4-45e6-96c5-ed1e765b2ab4": {
       "attrs": {
        "height": 0.9166666666666666,
        "pad": 0.01,
        "treemap:weight": 1,
        "width": 0.5,
        "x": 0.5,
        "y": 0.08333333333333333
       },
       "content": {
        "cell": "90920c64-cabb-4c73-affe-bc0d34f1ea1c",
        "part": "outputs"
       },
       "id": "a8b02ca1-3cb4-45e6-96c5-ed1e765b2ab4",
       "x": 0.5
      },
      "dd1fb01b-4375-405e-8775-a64a15bb607b": {
       "attrs": {
        "height": 0.16666666666666666,
        "pad": 0.01,
        "width": 0.4166666666666667,
        "x": -0.000792395411605938,
        "y": 0.8333333333333334
       },
       "content": null,
       "id": "dd1fb01b-4375-405e-8775-a64a15bb607b"
      },
      "e3a5e88f-ad24-42a9-85f5-a72de0a5ee71": {
       "attrs": {
        "height": 0.16666666666666666,
        "pad": 0.01,
        "treemap:weight": 1,
        "width": 1,
        "x": 0.000792393026941363,
        "y": -0.08333333333333333
       },
       "content": null,
       "id": "e3a5e88f-ad24-42a9-85f5-a72de0a5ee71"
      }
     }
    },
    "9b123c75-ec20-4307-90b4-2b902c1d63a9": {
     "id": "9b123c75-ec20-4307-90b4-2b902c1d63a9",
     "layout": "grid",
     "prev": "beafbc7b-0b5f-4c28-9391-8c206a54b199",
     "regions": {
      "58f7a2f0-0d1f-4a2c-89d4-37b94665c187": {
       "attrs": {
        "height": 0.9166666666666666,
        "pad": 0.01,
        "treemap:weight": 1,
        "width": 1,
        "x": 0,
        "y": 0.08333333333333333
       },
       "content": {
        "cell": "003148bd-0c14-4ec5-a0e0-866e07b03d7e",
        "part": "source"
       },
       "id": "58f7a2f0-0d1f-4a2c-89d4-37b94665c187"
      },
      "9f06c129-f127-436c-81e3-6b8e1a1b254f": {
       "attrs": {
        "height": 0.08333333333333333,
        "pad": 0.01,
        "treemap:weight": 1,
        "width": 1,
        "x": 0,
        "y": 0
       },
       "content": {
        "cell": "b8a319b7-2d69-4680-87bb-9fd0b87068f4",
        "part": "source"
       },
       "id": "9f06c129-f127-436c-81e3-6b8e1a1b254f"
      }
     }
    },
    "beafbc7b-0b5f-4c28-9391-8c206a54b199": {
     "id": "beafbc7b-0b5f-4c28-9391-8c206a54b199",
     "prev": "0ae03890-4f7b-4a8e-be5b-260273b38981",
     "regions": {
      "37ad250e-834c-4cf1-985c-0cb1f9a66723": {
       "attrs": {
        "height": 1,
        "width": 1,
        "x": 0,
        "y": 0
       },
       "content": {
        "cell": "d8a45066-f35f-47f5-875a-662cddb39fe4",
        "part": "source"
       },
       "id": "37ad250e-834c-4cf1-985c-0cb1f9a66723"
      }
     }
    },
    "eef7d6a9-28c7-4826-8250-22ed6e8b41a3": {
     "id": "eef7d6a9-28c7-4826-8250-22ed6e8b41a3",
     "layout": "grid",
     "prev": "9b123c75-ec20-4307-90b4-2b902c1d63a9",
     "regions": {
      "7dfcc2ef-ee5c-489a-bc20-a2f90b5e2c28": {
       "attrs": {
        "height": 0.16666666666666666,
        "pad": 0.01,
        "width": 0.4166666666666667,
        "x": -0.000792395411605938,
        "y": 0.8333333333333334
       },
       "content": null,
       "id": "7dfcc2ef-ee5c-489a-bc20-a2f90b5e2c28"
      },
      "8b054e5e-3842-4826-b83a-b352b10af72b": {
       "attrs": {
        "height": 0.5833333333333334,
        "pad": 0.01,
        "treemap:weight": 1,
        "width": 0.4166666666666667,
        "x": 0,
        "y": 0.08333333333333333
       },
       "content": {
        "cell": "de030a3e-4ac9-4b9d-b94b-419237d48d36",
        "part": "source"
       },
       "id": "8b054e5e-3842-4826-b83a-b352b10af72b"
      },
      "8b8bb6ca-3899-4efc-8739-fe10e7e736da": {
       "attrs": {
        "height": 0.16666666666666666,
        "pad": 0.01,
        "width": 0.4166666666666667,
        "x": 0,
        "y": 0.6666666666666666
       },
       "content": null,
       "id": "8b8bb6ca-3899-4efc-8739-fe10e7e736da"
      },
      "be28e85e-1bee-4d04-8652-9ab9c39b61ba": {
       "attrs": {
        "height": 0.9166666666666666,
        "pad": 0.01,
        "treemap:weight": 1,
        "width": 0.5,
        "x": 0.5,
        "y": 0.08333333333333333
       },
       "id": "be28e85e-1bee-4d04-8652-9ab9c39b61ba",
       "x": 0.5
      },
      "c2d6f573-dfab-4499-88c7-420d8b504218": {
       "attrs": {
        "height": 0.16666666666666666,
        "pad": 0.01,
        "treemap:weight": 1,
        "width": 1,
        "x": 0.000792393026941363,
        "y": -0.08333333333333333
       },
       "content": {
        "cell": "93a278a3-0013-4751-9a13-27a3d4e42678",
        "part": "source"
       },
       "id": "c2d6f573-dfab-4499-88c7-420d8b504218"
      }
     }
    }
   },
   "themes": {
    "default": "a1ced6da-b944-4903-99f9-ea964ef01318",
    "theme": {
     "a1ced6da-b944-4903-99f9-ea964ef01318": {
      "backgrounds": {
       "backgroundColor": {
        "background-color": "backgroundColor",
        "id": "backgroundColor"
       }
      },
      "id": "a1ced6da-b944-4903-99f9-ea964ef01318",
      "palette": {
       "backgroundColor": {
        "id": "backgroundColor",
        "rgb": [
         256,
         256,
         256
        ]
       },
       "headingColor": {
        "id": "headingColor",
        "rgb": [
         0,
         0,
         0
        ]
       },
       "linkColor": {
        "id": "linkColor",
        "rgb": [
         0,
         0,
         139
        ]
       },
       "mainColor": {
        "id": "mainColor",
        "rgb": [
         0,
         0,
         0
        ]
       }
      },
      "rules": {
       "a": {
        "color": "linkColor"
       },
       "h1": {
        "color": "headingColor",
        "font-family": "News Cycle",
        "font-size": 7
       },
       "h2": {
        "color": "headingColor",
        "font-family": "News Cycle",
        "font-size": 5
       },
       "h3": {
        "color": "headingColor",
        "font-family": "News Cycle",
        "font-size": 3.75
       },
       "h4": {
        "color": "headingColor",
        "font-family": "News Cycle",
        "font-size": 3
       },
       "h5": {
        "color": "headingColor",
        "font-family": "News Cycle"
       },
       "h6": {
        "color": "headingColor",
        "font-family": "News Cycle"
       },
       "h7": {
        "color": "headingColor",
        "font-family": "News Cycle"
       },
       "li": {
        "color": "mainColor",
        "font-family": "Lato",
        "font-size": 5
       },
       "p": {
        "color": "mainColor",
        "font-family": "Lato",
        "font-size": 5
       }
      },
      "text-base": {
       "color": "mainColor",
       "font-family": "Lato",
       "font-size": 5
      }
     }
    }
   }
  }
 },
 "nbformat": 4,
 "nbformat_minor": 1
}
